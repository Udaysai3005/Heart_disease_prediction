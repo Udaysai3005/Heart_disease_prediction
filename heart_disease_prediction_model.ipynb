{
 "cells": [
  {
   "cell_type": "code",
   "execution_count": 32,
   "id": "b1e34375",
   "metadata": {
    "pycharm": {
     "name": "#%%\n"
    }
   },
   "outputs": [],
   "source": [
    "#loading dataset\n",
    "import pandas as pd\n",
    "import numpy as np\n",
    "#visualisation\n",
    "import matplotlib.pyplot as plt\n",
    "# data preprocessing\n",
    "from sklearn.preprocessing import StandardScaler\n",
    "# data splitting\n",
    "from sklearn.model_selection import train_test_split\n",
    "# data modeling\n",
    "from sklearn.metrics import confusion_matrix,accuracy_score,roc_curve,classification_report\n",
    "from sklearn import metrics\n",
    "from sklearn.linear_model import LogisticRegression\n",
    "from sklearn.neighbors import KNeighborsClassifier\n",
    "from sklearn.tree import DecisionTreeClassifier\n",
    "from sklearn.naive_bayes import GaussianNB\n",
    "from sklearn.svm import SVC\n",
    "from sklearn.linear_model import SGDClassifier\n",
    "from sklearn.neural_network import MLPClassifier\n",
    "from sklearn.model_selection import cross_val_score"
   ]
  },
  {
   "cell_type": "code",
   "execution_count": 2,
   "id": "b1e36f12",
   "metadata": {
    "pycharm": {
     "name": "#%%\n"
    }
   },
   "outputs": [
    {
     "data": {
      "text/html": [
       "<div>\n",
       "<style scoped>\n",
       "    .dataframe tbody tr th:only-of-type {\n",
       "        vertical-align: middle;\n",
       "    }\n",
       "\n",
       "    .dataframe tbody tr th {\n",
       "        vertical-align: top;\n",
       "    }\n",
       "\n",
       "    .dataframe thead th {\n",
       "        text-align: right;\n",
       "    }\n",
       "</style>\n",
       "<table border=\"1\" class=\"dataframe\">\n",
       "  <thead>\n",
       "    <tr style=\"text-align: right;\">\n",
       "      <th></th>\n",
       "      <th>age</th>\n",
       "      <th>sex</th>\n",
       "      <th>cp</th>\n",
       "      <th>trestbps</th>\n",
       "      <th>chol</th>\n",
       "      <th>fbs</th>\n",
       "      <th>restecg</th>\n",
       "      <th>thalach</th>\n",
       "      <th>exang</th>\n",
       "      <th>oldpeak</th>\n",
       "      <th>slope</th>\n",
       "      <th>ca</th>\n",
       "      <th>thal</th>\n",
       "      <th>target</th>\n",
       "    </tr>\n",
       "  </thead>\n",
       "  <tbody>\n",
       "    <tr>\n",
       "      <th>0</th>\n",
       "      <td>63</td>\n",
       "      <td>1</td>\n",
       "      <td>3</td>\n",
       "      <td>145</td>\n",
       "      <td>233</td>\n",
       "      <td>1</td>\n",
       "      <td>0</td>\n",
       "      <td>150</td>\n",
       "      <td>0</td>\n",
       "      <td>2.3</td>\n",
       "      <td>0</td>\n",
       "      <td>0</td>\n",
       "      <td>1</td>\n",
       "      <td>1</td>\n",
       "    </tr>\n",
       "    <tr>\n",
       "      <th>1</th>\n",
       "      <td>37</td>\n",
       "      <td>1</td>\n",
       "      <td>2</td>\n",
       "      <td>130</td>\n",
       "      <td>250</td>\n",
       "      <td>0</td>\n",
       "      <td>1</td>\n",
       "      <td>187</td>\n",
       "      <td>0</td>\n",
       "      <td>3.5</td>\n",
       "      <td>0</td>\n",
       "      <td>0</td>\n",
       "      <td>2</td>\n",
       "      <td>1</td>\n",
       "    </tr>\n",
       "    <tr>\n",
       "      <th>2</th>\n",
       "      <td>41</td>\n",
       "      <td>0</td>\n",
       "      <td>1</td>\n",
       "      <td>130</td>\n",
       "      <td>204</td>\n",
       "      <td>0</td>\n",
       "      <td>0</td>\n",
       "      <td>172</td>\n",
       "      <td>0</td>\n",
       "      <td>1.4</td>\n",
       "      <td>2</td>\n",
       "      <td>0</td>\n",
       "      <td>2</td>\n",
       "      <td>1</td>\n",
       "    </tr>\n",
       "    <tr>\n",
       "      <th>3</th>\n",
       "      <td>56</td>\n",
       "      <td>1</td>\n",
       "      <td>1</td>\n",
       "      <td>120</td>\n",
       "      <td>236</td>\n",
       "      <td>0</td>\n",
       "      <td>1</td>\n",
       "      <td>178</td>\n",
       "      <td>0</td>\n",
       "      <td>0.8</td>\n",
       "      <td>2</td>\n",
       "      <td>0</td>\n",
       "      <td>2</td>\n",
       "      <td>1</td>\n",
       "    </tr>\n",
       "    <tr>\n",
       "      <th>4</th>\n",
       "      <td>57</td>\n",
       "      <td>0</td>\n",
       "      <td>0</td>\n",
       "      <td>120</td>\n",
       "      <td>354</td>\n",
       "      <td>0</td>\n",
       "      <td>1</td>\n",
       "      <td>163</td>\n",
       "      <td>1</td>\n",
       "      <td>0.6</td>\n",
       "      <td>2</td>\n",
       "      <td>0</td>\n",
       "      <td>2</td>\n",
       "      <td>1</td>\n",
       "    </tr>\n",
       "  </tbody>\n",
       "</table>\n",
       "</div>"
      ],
      "text/plain": [
       "   age  sex  cp  trestbps  chol  fbs  restecg  thalach  exang  oldpeak  slope  \\\n",
       "0   63    1   3       145   233    1        0      150      0      2.3      0   \n",
       "1   37    1   2       130   250    0        1      187      0      3.5      0   \n",
       "2   41    0   1       130   204    0        0      172      0      1.4      2   \n",
       "3   56    1   1       120   236    0        1      178      0      0.8      2   \n",
       "4   57    0   0       120   354    0        1      163      1      0.6      2   \n",
       "\n",
       "   ca  thal  target  \n",
       "0   0     1       1  \n",
       "1   0     2       1  \n",
       "2   0     2       1  \n",
       "3   0     2       1  \n",
       "4   0     2       1  "
      ]
     },
     "execution_count": 2,
     "metadata": {},
     "output_type": "execute_result"
    }
   ],
   "source": [
    "data_heart = pd.read_csv('heart.csv')\n",
    "data_heart.head()"
   ]
  },
  {
   "cell_type": "code",
   "execution_count": 3,
   "id": "24e8e43d",
   "metadata": {
    "pycharm": {
     "name": "#%%\n"
    }
   },
   "outputs": [
    {
     "data": {
      "text/html": [
       "<div>\n",
       "<style scoped>\n",
       "    .dataframe tbody tr th:only-of-type {\n",
       "        vertical-align: middle;\n",
       "    }\n",
       "\n",
       "    .dataframe tbody tr th {\n",
       "        vertical-align: top;\n",
       "    }\n",
       "\n",
       "    .dataframe thead th {\n",
       "        text-align: right;\n",
       "    }\n",
       "</style>\n",
       "<table border=\"1\" class=\"dataframe\">\n",
       "  <thead>\n",
       "    <tr style=\"text-align: right;\">\n",
       "      <th></th>\n",
       "      <th>age</th>\n",
       "      <th>sex</th>\n",
       "      <th>cp</th>\n",
       "      <th>trestbps</th>\n",
       "      <th>chol</th>\n",
       "      <th>fbs</th>\n",
       "      <th>restecg</th>\n",
       "      <th>thalach</th>\n",
       "      <th>exang</th>\n",
       "      <th>oldpeak</th>\n",
       "      <th>slope</th>\n",
       "      <th>ca</th>\n",
       "      <th>thal</th>\n",
       "      <th>target</th>\n",
       "    </tr>\n",
       "  </thead>\n",
       "  <tbody>\n",
       "    <tr>\n",
       "      <th>298</th>\n",
       "      <td>57</td>\n",
       "      <td>0</td>\n",
       "      <td>0</td>\n",
       "      <td>140</td>\n",
       "      <td>241</td>\n",
       "      <td>0</td>\n",
       "      <td>1</td>\n",
       "      <td>123</td>\n",
       "      <td>1</td>\n",
       "      <td>0.2</td>\n",
       "      <td>1</td>\n",
       "      <td>0</td>\n",
       "      <td>3</td>\n",
       "      <td>0</td>\n",
       "    </tr>\n",
       "    <tr>\n",
       "      <th>299</th>\n",
       "      <td>45</td>\n",
       "      <td>1</td>\n",
       "      <td>3</td>\n",
       "      <td>110</td>\n",
       "      <td>264</td>\n",
       "      <td>0</td>\n",
       "      <td>1</td>\n",
       "      <td>132</td>\n",
       "      <td>0</td>\n",
       "      <td>1.2</td>\n",
       "      <td>1</td>\n",
       "      <td>0</td>\n",
       "      <td>3</td>\n",
       "      <td>0</td>\n",
       "    </tr>\n",
       "    <tr>\n",
       "      <th>300</th>\n",
       "      <td>68</td>\n",
       "      <td>1</td>\n",
       "      <td>0</td>\n",
       "      <td>144</td>\n",
       "      <td>193</td>\n",
       "      <td>1</td>\n",
       "      <td>1</td>\n",
       "      <td>141</td>\n",
       "      <td>0</td>\n",
       "      <td>3.4</td>\n",
       "      <td>1</td>\n",
       "      <td>2</td>\n",
       "      <td>3</td>\n",
       "      <td>0</td>\n",
       "    </tr>\n",
       "    <tr>\n",
       "      <th>301</th>\n",
       "      <td>57</td>\n",
       "      <td>1</td>\n",
       "      <td>0</td>\n",
       "      <td>130</td>\n",
       "      <td>131</td>\n",
       "      <td>0</td>\n",
       "      <td>1</td>\n",
       "      <td>115</td>\n",
       "      <td>1</td>\n",
       "      <td>1.2</td>\n",
       "      <td>1</td>\n",
       "      <td>1</td>\n",
       "      <td>3</td>\n",
       "      <td>0</td>\n",
       "    </tr>\n",
       "    <tr>\n",
       "      <th>302</th>\n",
       "      <td>57</td>\n",
       "      <td>0</td>\n",
       "      <td>1</td>\n",
       "      <td>130</td>\n",
       "      <td>236</td>\n",
       "      <td>0</td>\n",
       "      <td>0</td>\n",
       "      <td>174</td>\n",
       "      <td>0</td>\n",
       "      <td>0.0</td>\n",
       "      <td>1</td>\n",
       "      <td>1</td>\n",
       "      <td>2</td>\n",
       "      <td>0</td>\n",
       "    </tr>\n",
       "  </tbody>\n",
       "</table>\n",
       "</div>"
      ],
      "text/plain": [
       "     age  sex  cp  trestbps  chol  fbs  restecg  thalach  exang  oldpeak  \\\n",
       "298   57    0   0       140   241    0        1      123      1      0.2   \n",
       "299   45    1   3       110   264    0        1      132      0      1.2   \n",
       "300   68    1   0       144   193    1        1      141      0      3.4   \n",
       "301   57    1   0       130   131    0        1      115      1      1.2   \n",
       "302   57    0   1       130   236    0        0      174      0      0.0   \n",
       "\n",
       "     slope  ca  thal  target  \n",
       "298      1   0     3       0  \n",
       "299      1   0     3       0  \n",
       "300      1   2     3       0  \n",
       "301      1   1     3       0  \n",
       "302      1   1     2       0  "
      ]
     },
     "execution_count": 3,
     "metadata": {},
     "output_type": "execute_result"
    }
   ],
   "source": [
    "data_heart.tail()"
   ]
  },
  {
   "cell_type": "code",
   "execution_count": 4,
   "id": "eb2bd0e6",
   "metadata": {
    "pycharm": {
     "name": "#%%\n"
    }
   },
   "outputs": [
    {
     "name": "stdout",
     "output_type": "stream",
     "text": [
      "<class 'pandas.core.frame.DataFrame'>\n",
      "RangeIndex: 303 entries, 0 to 302\n",
      "Data columns (total 14 columns):\n",
      " #   Column    Non-Null Count  Dtype  \n",
      "---  ------    --------------  -----  \n",
      " 0   age       303 non-null    int64  \n",
      " 1   sex       303 non-null    int64  \n",
      " 2   cp        303 non-null    int64  \n",
      " 3   trestbps  303 non-null    int64  \n",
      " 4   chol      303 non-null    int64  \n",
      " 5   fbs       303 non-null    int64  \n",
      " 6   restecg   303 non-null    int64  \n",
      " 7   thalach   303 non-null    int64  \n",
      " 8   exang     303 non-null    int64  \n",
      " 9   oldpeak   303 non-null    float64\n",
      " 10  slope     303 non-null    int64  \n",
      " 11  ca        303 non-null    int64  \n",
      " 12  thal      303 non-null    int64  \n",
      " 13  target    303 non-null    int64  \n",
      "dtypes: float64(1), int64(13)\n",
      "memory usage: 33.3 KB\n"
     ]
    }
   ],
   "source": [
    "data_heart.info()"
   ]
  },
  {
   "cell_type": "code",
   "execution_count": 5,
   "id": "e18b040b",
   "metadata": {
    "pycharm": {
     "name": "#%%\n"
    }
   },
   "outputs": [
    {
     "data": {
      "text/plain": [
       "(303, 14)"
      ]
     },
     "execution_count": 5,
     "metadata": {},
     "output_type": "execute_result"
    }
   ],
   "source": [
    "data_heart.shape"
   ]
  },
  {
   "cell_type": "code",
   "execution_count": 6,
   "id": "6fb80e8a",
   "metadata": {
    "pycharm": {
     "name": "#%%\n"
    }
   },
   "outputs": [
    {
     "data": {
      "text/html": [
       "<div>\n",
       "<style scoped>\n",
       "    .dataframe tbody tr th:only-of-type {\n",
       "        vertical-align: middle;\n",
       "    }\n",
       "\n",
       "    .dataframe tbody tr th {\n",
       "        vertical-align: top;\n",
       "    }\n",
       "\n",
       "    .dataframe thead th {\n",
       "        text-align: right;\n",
       "    }\n",
       "</style>\n",
       "<table border=\"1\" class=\"dataframe\">\n",
       "  <thead>\n",
       "    <tr style=\"text-align: right;\">\n",
       "      <th></th>\n",
       "      <th>age</th>\n",
       "      <th>sex</th>\n",
       "      <th>cp</th>\n",
       "      <th>trestbps</th>\n",
       "      <th>chol</th>\n",
       "      <th>fbs</th>\n",
       "      <th>restecg</th>\n",
       "      <th>thalach</th>\n",
       "      <th>exang</th>\n",
       "      <th>oldpeak</th>\n",
       "      <th>slope</th>\n",
       "      <th>ca</th>\n",
       "      <th>thal</th>\n",
       "      <th>target</th>\n",
       "    </tr>\n",
       "  </thead>\n",
       "  <tbody>\n",
       "    <tr>\n",
       "      <th>count</th>\n",
       "      <td>303.000000</td>\n",
       "      <td>303.000000</td>\n",
       "      <td>303.000000</td>\n",
       "      <td>303.000000</td>\n",
       "      <td>303.000000</td>\n",
       "      <td>303.000000</td>\n",
       "      <td>303.000000</td>\n",
       "      <td>303.000000</td>\n",
       "      <td>303.000000</td>\n",
       "      <td>303.000000</td>\n",
       "      <td>303.000000</td>\n",
       "      <td>303.000000</td>\n",
       "      <td>303.000000</td>\n",
       "      <td>303.000000</td>\n",
       "    </tr>\n",
       "    <tr>\n",
       "      <th>mean</th>\n",
       "      <td>54.366337</td>\n",
       "      <td>0.683168</td>\n",
       "      <td>0.966997</td>\n",
       "      <td>131.623762</td>\n",
       "      <td>246.264026</td>\n",
       "      <td>0.148515</td>\n",
       "      <td>0.528053</td>\n",
       "      <td>149.646865</td>\n",
       "      <td>0.326733</td>\n",
       "      <td>1.039604</td>\n",
       "      <td>1.399340</td>\n",
       "      <td>0.729373</td>\n",
       "      <td>2.313531</td>\n",
       "      <td>0.544554</td>\n",
       "    </tr>\n",
       "    <tr>\n",
       "      <th>std</th>\n",
       "      <td>9.082101</td>\n",
       "      <td>0.466011</td>\n",
       "      <td>1.032052</td>\n",
       "      <td>17.538143</td>\n",
       "      <td>51.830751</td>\n",
       "      <td>0.356198</td>\n",
       "      <td>0.525860</td>\n",
       "      <td>22.905161</td>\n",
       "      <td>0.469794</td>\n",
       "      <td>1.161075</td>\n",
       "      <td>0.616226</td>\n",
       "      <td>1.022606</td>\n",
       "      <td>0.612277</td>\n",
       "      <td>0.498835</td>\n",
       "    </tr>\n",
       "    <tr>\n",
       "      <th>min</th>\n",
       "      <td>29.000000</td>\n",
       "      <td>0.000000</td>\n",
       "      <td>0.000000</td>\n",
       "      <td>94.000000</td>\n",
       "      <td>126.000000</td>\n",
       "      <td>0.000000</td>\n",
       "      <td>0.000000</td>\n",
       "      <td>71.000000</td>\n",
       "      <td>0.000000</td>\n",
       "      <td>0.000000</td>\n",
       "      <td>0.000000</td>\n",
       "      <td>0.000000</td>\n",
       "      <td>0.000000</td>\n",
       "      <td>0.000000</td>\n",
       "    </tr>\n",
       "    <tr>\n",
       "      <th>25%</th>\n",
       "      <td>47.500000</td>\n",
       "      <td>0.000000</td>\n",
       "      <td>0.000000</td>\n",
       "      <td>120.000000</td>\n",
       "      <td>211.000000</td>\n",
       "      <td>0.000000</td>\n",
       "      <td>0.000000</td>\n",
       "      <td>133.500000</td>\n",
       "      <td>0.000000</td>\n",
       "      <td>0.000000</td>\n",
       "      <td>1.000000</td>\n",
       "      <td>0.000000</td>\n",
       "      <td>2.000000</td>\n",
       "      <td>0.000000</td>\n",
       "    </tr>\n",
       "    <tr>\n",
       "      <th>50%</th>\n",
       "      <td>55.000000</td>\n",
       "      <td>1.000000</td>\n",
       "      <td>1.000000</td>\n",
       "      <td>130.000000</td>\n",
       "      <td>240.000000</td>\n",
       "      <td>0.000000</td>\n",
       "      <td>1.000000</td>\n",
       "      <td>153.000000</td>\n",
       "      <td>0.000000</td>\n",
       "      <td>0.800000</td>\n",
       "      <td>1.000000</td>\n",
       "      <td>0.000000</td>\n",
       "      <td>2.000000</td>\n",
       "      <td>1.000000</td>\n",
       "    </tr>\n",
       "    <tr>\n",
       "      <th>75%</th>\n",
       "      <td>61.000000</td>\n",
       "      <td>1.000000</td>\n",
       "      <td>2.000000</td>\n",
       "      <td>140.000000</td>\n",
       "      <td>274.500000</td>\n",
       "      <td>0.000000</td>\n",
       "      <td>1.000000</td>\n",
       "      <td>166.000000</td>\n",
       "      <td>1.000000</td>\n",
       "      <td>1.600000</td>\n",
       "      <td>2.000000</td>\n",
       "      <td>1.000000</td>\n",
       "      <td>3.000000</td>\n",
       "      <td>1.000000</td>\n",
       "    </tr>\n",
       "    <tr>\n",
       "      <th>max</th>\n",
       "      <td>77.000000</td>\n",
       "      <td>1.000000</td>\n",
       "      <td>3.000000</td>\n",
       "      <td>200.000000</td>\n",
       "      <td>564.000000</td>\n",
       "      <td>1.000000</td>\n",
       "      <td>2.000000</td>\n",
       "      <td>202.000000</td>\n",
       "      <td>1.000000</td>\n",
       "      <td>6.200000</td>\n",
       "      <td>2.000000</td>\n",
       "      <td>4.000000</td>\n",
       "      <td>3.000000</td>\n",
       "      <td>1.000000</td>\n",
       "    </tr>\n",
       "  </tbody>\n",
       "</table>\n",
       "</div>"
      ],
      "text/plain": [
       "              age         sex          cp    trestbps        chol         fbs  \\\n",
       "count  303.000000  303.000000  303.000000  303.000000  303.000000  303.000000   \n",
       "mean    54.366337    0.683168    0.966997  131.623762  246.264026    0.148515   \n",
       "std      9.082101    0.466011    1.032052   17.538143   51.830751    0.356198   \n",
       "min     29.000000    0.000000    0.000000   94.000000  126.000000    0.000000   \n",
       "25%     47.500000    0.000000    0.000000  120.000000  211.000000    0.000000   \n",
       "50%     55.000000    1.000000    1.000000  130.000000  240.000000    0.000000   \n",
       "75%     61.000000    1.000000    2.000000  140.000000  274.500000    0.000000   \n",
       "max     77.000000    1.000000    3.000000  200.000000  564.000000    1.000000   \n",
       "\n",
       "          restecg     thalach       exang     oldpeak       slope          ca  \\\n",
       "count  303.000000  303.000000  303.000000  303.000000  303.000000  303.000000   \n",
       "mean     0.528053  149.646865    0.326733    1.039604    1.399340    0.729373   \n",
       "std      0.525860   22.905161    0.469794    1.161075    0.616226    1.022606   \n",
       "min      0.000000   71.000000    0.000000    0.000000    0.000000    0.000000   \n",
       "25%      0.000000  133.500000    0.000000    0.000000    1.000000    0.000000   \n",
       "50%      1.000000  153.000000    0.000000    0.800000    1.000000    0.000000   \n",
       "75%      1.000000  166.000000    1.000000    1.600000    2.000000    1.000000   \n",
       "max      2.000000  202.000000    1.000000    6.200000    2.000000    4.000000   \n",
       "\n",
       "             thal      target  \n",
       "count  303.000000  303.000000  \n",
       "mean     2.313531    0.544554  \n",
       "std      0.612277    0.498835  \n",
       "min      0.000000    0.000000  \n",
       "25%      2.000000    0.000000  \n",
       "50%      2.000000    1.000000  \n",
       "75%      3.000000    1.000000  \n",
       "max      3.000000    1.000000  "
      ]
     },
     "execution_count": 6,
     "metadata": {},
     "output_type": "execute_result"
    }
   ],
   "source": [
    "data_heart.describe()"
   ]
  },
  {
   "cell_type": "code",
   "execution_count": 7,
   "id": "a5fb3d12",
   "metadata": {
    "pycharm": {
     "name": "#%%\n"
    }
   },
   "outputs": [
    {
     "name": "stdout",
     "output_type": "stream",
     "text": [
      "80.93138199999999\n"
     ]
    },
    {
     "data": {
      "text/html": [
       "<div>\n",
       "<style scoped>\n",
       "    .dataframe tbody tr th:only-of-type {\n",
       "        vertical-align: middle;\n",
       "    }\n",
       "\n",
       "    .dataframe tbody tr th {\n",
       "        vertical-align: top;\n",
       "    }\n",
       "\n",
       "    .dataframe thead th {\n",
       "        text-align: right;\n",
       "    }\n",
       "</style>\n",
       "<table border=\"1\" class=\"dataframe\">\n",
       "  <thead>\n",
       "    <tr style=\"text-align: right;\">\n",
       "      <th></th>\n",
       "      <th>age</th>\n",
       "      <th>sex</th>\n",
       "      <th>cp</th>\n",
       "      <th>trestbps</th>\n",
       "      <th>chol</th>\n",
       "      <th>fbs</th>\n",
       "      <th>restecg</th>\n",
       "      <th>thalach</th>\n",
       "      <th>exang</th>\n",
       "      <th>oldpeak</th>\n",
       "      <th>slope</th>\n",
       "      <th>ca</th>\n",
       "      <th>thal</th>\n",
       "      <th>target</th>\n",
       "    </tr>\n",
       "  </thead>\n",
       "  <tbody>\n",
       "    <tr>\n",
       "      <th>272</th>\n",
       "      <td>67</td>\n",
       "      <td>1</td>\n",
       "      <td>0</td>\n",
       "      <td>120</td>\n",
       "      <td>237</td>\n",
       "      <td>0</td>\n",
       "      <td>1</td>\n",
       "      <td>71</td>\n",
       "      <td>0</td>\n",
       "      <td>1.0</td>\n",
       "      <td>1</td>\n",
       "      <td>0</td>\n",
       "      <td>2</td>\n",
       "      <td>0</td>\n",
       "    </tr>\n",
       "  </tbody>\n",
       "</table>\n",
       "</div>"
      ],
      "text/plain": [
       "     age  sex  cp  trestbps  chol  fbs  restecg  thalach  exang  oldpeak  \\\n",
       "272   67    1   0       120   237    0        1       71      0      1.0   \n",
       "\n",
       "     slope  ca  thal  target  \n",
       "272      1   0     2       0  "
      ]
     },
     "execution_count": 7,
     "metadata": {},
     "output_type": "execute_result"
    }
   ],
   "source": [
    "z_thalach=-((3*22.905161)-149.646865)\n",
    "print(z_thalach)\n",
    "data_heart[data_heart.thalach<z_thalach]"
   ]
  },
  {
   "cell_type": "code",
   "execution_count": 8,
   "id": "1aab61d0",
   "metadata": {
    "pycharm": {
     "name": "#%%\n"
    }
   },
   "outputs": [
    {
     "name": "stdout",
     "output_type": "stream",
     "text": [
      "401.756279\n"
     ]
    },
    {
     "data": {
      "text/html": [
       "<div>\n",
       "<style scoped>\n",
       "    .dataframe tbody tr th:only-of-type {\n",
       "        vertical-align: middle;\n",
       "    }\n",
       "\n",
       "    .dataframe tbody tr th {\n",
       "        vertical-align: top;\n",
       "    }\n",
       "\n",
       "    .dataframe thead th {\n",
       "        text-align: right;\n",
       "    }\n",
       "</style>\n",
       "<table border=\"1\" class=\"dataframe\">\n",
       "  <thead>\n",
       "    <tr style=\"text-align: right;\">\n",
       "      <th></th>\n",
       "      <th>age</th>\n",
       "      <th>sex</th>\n",
       "      <th>cp</th>\n",
       "      <th>trestbps</th>\n",
       "      <th>chol</th>\n",
       "      <th>fbs</th>\n",
       "      <th>restecg</th>\n",
       "      <th>thalach</th>\n",
       "      <th>exang</th>\n",
       "      <th>oldpeak</th>\n",
       "      <th>slope</th>\n",
       "      <th>ca</th>\n",
       "      <th>thal</th>\n",
       "      <th>target</th>\n",
       "    </tr>\n",
       "  </thead>\n",
       "  <tbody>\n",
       "    <tr>\n",
       "      <th>28</th>\n",
       "      <td>65</td>\n",
       "      <td>0</td>\n",
       "      <td>2</td>\n",
       "      <td>140</td>\n",
       "      <td>417</td>\n",
       "      <td>1</td>\n",
       "      <td>0</td>\n",
       "      <td>157</td>\n",
       "      <td>0</td>\n",
       "      <td>0.8</td>\n",
       "      <td>2</td>\n",
       "      <td>1</td>\n",
       "      <td>2</td>\n",
       "      <td>1</td>\n",
       "    </tr>\n",
       "    <tr>\n",
       "      <th>85</th>\n",
       "      <td>67</td>\n",
       "      <td>0</td>\n",
       "      <td>2</td>\n",
       "      <td>115</td>\n",
       "      <td>564</td>\n",
       "      <td>0</td>\n",
       "      <td>0</td>\n",
       "      <td>160</td>\n",
       "      <td>0</td>\n",
       "      <td>1.6</td>\n",
       "      <td>1</td>\n",
       "      <td>0</td>\n",
       "      <td>3</td>\n",
       "      <td>1</td>\n",
       "    </tr>\n",
       "    <tr>\n",
       "      <th>220</th>\n",
       "      <td>63</td>\n",
       "      <td>0</td>\n",
       "      <td>0</td>\n",
       "      <td>150</td>\n",
       "      <td>407</td>\n",
       "      <td>0</td>\n",
       "      <td>0</td>\n",
       "      <td>154</td>\n",
       "      <td>0</td>\n",
       "      <td>4.0</td>\n",
       "      <td>1</td>\n",
       "      <td>3</td>\n",
       "      <td>3</td>\n",
       "      <td>0</td>\n",
       "    </tr>\n",
       "    <tr>\n",
       "      <th>246</th>\n",
       "      <td>56</td>\n",
       "      <td>0</td>\n",
       "      <td>0</td>\n",
       "      <td>134</td>\n",
       "      <td>409</td>\n",
       "      <td>0</td>\n",
       "      <td>0</td>\n",
       "      <td>150</td>\n",
       "      <td>1</td>\n",
       "      <td>1.9</td>\n",
       "      <td>1</td>\n",
       "      <td>2</td>\n",
       "      <td>3</td>\n",
       "      <td>0</td>\n",
       "    </tr>\n",
       "  </tbody>\n",
       "</table>\n",
       "</div>"
      ],
      "text/plain": [
       "     age  sex  cp  trestbps  chol  fbs  restecg  thalach  exang  oldpeak  \\\n",
       "28    65    0   2       140   417    1        0      157      0      0.8   \n",
       "85    67    0   2       115   564    0        0      160      0      1.6   \n",
       "220   63    0   0       150   407    0        0      154      0      4.0   \n",
       "246   56    0   0       134   409    0        0      150      1      1.9   \n",
       "\n",
       "     slope  ca  thal  target  \n",
       "28       2   1     2       1  \n",
       "85       1   0     3       1  \n",
       "220      1   3     3       0  \n",
       "246      1   2     3       0  "
      ]
     },
     "execution_count": 8,
     "metadata": {},
     "output_type": "execute_result"
    }
   ],
   "source": [
    "z_chol=(3*51.830751)+246.264026\n",
    "print(z_chol)\n",
    "data_heart[data_heart.chol>z_chol]"
   ]
  },
  {
   "cell_type": "code",
   "execution_count": 9,
   "id": "ec533bb5",
   "metadata": {
    "pycharm": {
     "name": "#%%\n"
    }
   },
   "outputs": [
    {
     "name": "stdout",
     "output_type": "stream",
     "text": [
      "184.238191\n"
     ]
    },
    {
     "data": {
      "text/html": [
       "<div>\n",
       "<style scoped>\n",
       "    .dataframe tbody tr th:only-of-type {\n",
       "        vertical-align: middle;\n",
       "    }\n",
       "\n",
       "    .dataframe tbody tr th {\n",
       "        vertical-align: top;\n",
       "    }\n",
       "\n",
       "    .dataframe thead th {\n",
       "        text-align: right;\n",
       "    }\n",
       "</style>\n",
       "<table border=\"1\" class=\"dataframe\">\n",
       "  <thead>\n",
       "    <tr style=\"text-align: right;\">\n",
       "      <th></th>\n",
       "      <th>age</th>\n",
       "      <th>sex</th>\n",
       "      <th>cp</th>\n",
       "      <th>trestbps</th>\n",
       "      <th>chol</th>\n",
       "      <th>fbs</th>\n",
       "      <th>restecg</th>\n",
       "      <th>thalach</th>\n",
       "      <th>exang</th>\n",
       "      <th>oldpeak</th>\n",
       "      <th>slope</th>\n",
       "      <th>ca</th>\n",
       "      <th>thal</th>\n",
       "      <th>target</th>\n",
       "    </tr>\n",
       "  </thead>\n",
       "  <tbody>\n",
       "    <tr>\n",
       "      <th>223</th>\n",
       "      <td>56</td>\n",
       "      <td>0</td>\n",
       "      <td>0</td>\n",
       "      <td>200</td>\n",
       "      <td>288</td>\n",
       "      <td>1</td>\n",
       "      <td>0</td>\n",
       "      <td>133</td>\n",
       "      <td>1</td>\n",
       "      <td>4.0</td>\n",
       "      <td>0</td>\n",
       "      <td>2</td>\n",
       "      <td>3</td>\n",
       "      <td>0</td>\n",
       "    </tr>\n",
       "    <tr>\n",
       "      <th>248</th>\n",
       "      <td>54</td>\n",
       "      <td>1</td>\n",
       "      <td>1</td>\n",
       "      <td>192</td>\n",
       "      <td>283</td>\n",
       "      <td>0</td>\n",
       "      <td>0</td>\n",
       "      <td>195</td>\n",
       "      <td>0</td>\n",
       "      <td>0.0</td>\n",
       "      <td>2</td>\n",
       "      <td>1</td>\n",
       "      <td>3</td>\n",
       "      <td>0</td>\n",
       "    </tr>\n",
       "  </tbody>\n",
       "</table>\n",
       "</div>"
      ],
      "text/plain": [
       "     age  sex  cp  trestbps  chol  fbs  restecg  thalach  exang  oldpeak  \\\n",
       "223   56    0   0       200   288    1        0      133      1      4.0   \n",
       "248   54    1   1       192   283    0        0      195      0      0.0   \n",
       "\n",
       "     slope  ca  thal  target  \n",
       "223      0   2     3       0  \n",
       "248      2   1     3       0  "
      ]
     },
     "execution_count": 9,
     "metadata": {},
     "output_type": "execute_result"
    }
   ],
   "source": [
    "z_trestbps=(3*17.538143)+131.623762\n",
    "print(z_trestbps)\n",
    "data_heart[data_heart.trestbps>z_trestbps]"
   ]
  },
  {
   "cell_type": "code",
   "execution_count": 10,
   "id": "f31d6d6f",
   "metadata": {
    "pycharm": {
     "name": "#%%\n"
    }
   },
   "outputs": [],
   "source": [
    "data_heart =data_heart[data_heart.thalach>z_thalach]"
   ]
  },
  {
   "cell_type": "code",
   "execution_count": 11,
   "id": "3fbc045b",
   "metadata": {
    "pycharm": {
     "name": "#%%\n"
    }
   },
   "outputs": [],
   "source": [
    " data_heart =data_heart[data_heart.chol<z_chol]"
   ]
  },
  {
   "cell_type": "code",
   "execution_count": 12,
   "id": "f2a35a51",
   "metadata": {
    "pycharm": {
     "name": "#%%\n"
    }
   },
   "outputs": [],
   "source": [
    "  data_heart =data_heart[data_heart.trestbps<z_trestbps]"
   ]
  },
  {
   "cell_type": "code",
   "execution_count": 13,
   "id": "385a5947",
   "metadata": {
    "pycharm": {
     "name": "#%%\n"
    }
   },
   "outputs": [
    {
     "data": {
      "text/plain": [
       "(296, 14)"
      ]
     },
     "execution_count": 13,
     "metadata": {},
     "output_type": "execute_result"
    }
   ],
   "source": [
    "  data_heart.shape"
   ]
  },
  {
   "cell_type": "code",
   "execution_count": 14,
   "id": "15a0b33d",
   "metadata": {
    "pycharm": {
     "name": "#%%\n"
    }
   },
   "outputs": [
    {
     "data": {
      "text/plain": [
       "age         0\n",
       "sex         0\n",
       "cp          0\n",
       "trestbps    0\n",
       "chol        0\n",
       "fbs         0\n",
       "restecg     0\n",
       "thalach     0\n",
       "exang       0\n",
       "oldpeak     0\n",
       "slope       0\n",
       "ca          0\n",
       "thal        0\n",
       "target      0\n",
       "dtype: int64"
      ]
     },
     "execution_count": 14,
     "metadata": {},
     "output_type": "execute_result"
    }
   ],
   "source": [
    "data_heart.isnull().sum()"
   ]
  },
  {
   "cell_type": "code",
   "execution_count": 15,
   "id": "d20fe289",
   "metadata": {
    "pycharm": {
     "name": "#%%\n"
    }
   },
   "outputs": [
    {
     "data": {
      "text/plain": [
       "1    163\n",
       "0    133\n",
       "Name: target, dtype: int64"
      ]
     },
     "execution_count": 15,
     "metadata": {},
     "output_type": "execute_result"
    }
   ],
   "source": [
    "data_heart['target'].value_counts()"
   ]
  },
  {
   "cell_type": "code",
   "execution_count": 16,
   "id": "67a177e6",
   "metadata": {
    "pycharm": {
     "name": "#%%\n"
    }
   },
   "outputs": [
    {
     "data": {
      "text/plain": [
       "array([[<AxesSubplot:title={'center':'age'}>,\n",
       "        <AxesSubplot:title={'center':'sex'}>,\n",
       "        <AxesSubplot:title={'center':'cp'}>,\n",
       "        <AxesSubplot:title={'center':'trestbps'}>],\n",
       "       [<AxesSubplot:title={'center':'chol'}>,\n",
       "        <AxesSubplot:title={'center':'fbs'}>,\n",
       "        <AxesSubplot:title={'center':'restecg'}>,\n",
       "        <AxesSubplot:title={'center':'thalach'}>],\n",
       "       [<AxesSubplot:title={'center':'exang'}>,\n",
       "        <AxesSubplot:title={'center':'oldpeak'}>,\n",
       "        <AxesSubplot:title={'center':'slope'}>,\n",
       "        <AxesSubplot:title={'center':'ca'}>],\n",
       "       [<AxesSubplot:title={'center':'thal'}>,\n",
       "        <AxesSubplot:title={'center':'target'}>, <AxesSubplot:>,\n",
       "        <AxesSubplot:>]], dtype=object)"
      ]
     },
     "execution_count": 16,
     "metadata": {},
     "output_type": "execute_result"
    },
    {
     "data": {
      "image/png": "[encoded data removed]",
      "text/plain": [
       "<Figure size 432x288 with 16 Axes>"
      ]
     },
     "metadata": {
      "needs_background": "light"
     },
     "output_type": "display_data"
    }
   ],
   "source": [
    "data_heart.hist()"
   ]
  },
  {
   "cell_type": "code",
   "execution_count": 17,
   "id": "12470564",
   "metadata": {
    "pycharm": {
     "name": "#%%\n"
    }
   },
   "outputs": [],
   "source": [
    "for x in data_heart.index:\n",
    "    if data_heart.loc[x, 'thal']==3 :\n",
    "        data_heart.loc[x, 'thal']=1\n"
   ]
  },
  {
   "cell_type": "code",
   "execution_count": 18,
   "id": "16f1e4cc",
   "metadata": {
    "pycharm": {
     "name": "#%%\n"
    }
   },
   "outputs": [],
   "source": [
    "#model prep\n",
    "y = data_heart[\"target\"]\n",
    "x = data_heart.drop('target',axis=1)"
   ]
  },
  {
   "cell_type": "code",
   "execution_count": 19,
   "id": "fdc8eb69",
   "metadata": {
    "pycharm": {
     "name": "#%%\n"
    }
   },
   "outputs": [
    {
     "name": "stdout",
     "output_type": "stream",
     "text": [
      "     age  sex  cp  trestbps  chol  fbs  restecg  thalach  exang  oldpeak  \\\n",
      "0     63    1   3       145   233    1        0      150      0      2.3   \n",
      "1     37    1   2       130   250    0        1      187      0      3.5   \n",
      "2     41    0   1       130   204    0        0      172      0      1.4   \n",
      "3     56    1   1       120   236    0        1      178      0      0.8   \n",
      "4     57    0   0       120   354    0        1      163      1      0.6   \n",
      "..   ...  ...  ..       ...   ...  ...      ...      ...    ...      ...   \n",
      "298   57    0   0       140   241    0        1      123      1      0.2   \n",
      "299   45    1   3       110   264    0        1      132      0      1.2   \n",
      "300   68    1   0       144   193    1        1      141      0      3.4   \n",
      "301   57    1   0       130   131    0        1      115      1      1.2   \n",
      "302   57    0   1       130   236    0        0      174      0      0.0   \n",
      "\n",
      "     slope  ca  thal  \n",
      "0        0   0     1  \n",
      "1        0   0     2  \n",
      "2        2   0     2  \n",
      "3        2   0     2  \n",
      "4        2   0     2  \n",
      "..     ...  ..   ...  \n",
      "298      1   0     1  \n",
      "299      1   0     1  \n",
      "300      1   2     1  \n",
      "301      1   1     1  \n",
      "302      1   1     2  \n",
      "\n",
      "[296 rows x 13 columns]\n"
     ]
    }
   ],
   "source": [
    "print(x)"
   ]
  },
  {
   "cell_type": "code",
   "execution_count": 20,
   "id": "c832b3e7",
   "metadata": {
    "pycharm": {
     "name": "#%%\n"
    }
   },
   "outputs": [
    {
     "name": "stdout",
     "output_type": "stream",
     "text": [
      "0      1\n",
      "1      1\n",
      "2      1\n",
      "3      1\n",
      "4      1\n",
      "      ..\n",
      "298    0\n",
      "299    0\n",
      "300    0\n",
      "301    0\n",
      "302    0\n",
      "Name: target, Length: 296, dtype: int64\n"
     ]
    }
   ],
   "source": [
    "print(y)"
   ]
  },
  {
   "cell_type": "code",
   "execution_count": 21,
   "id": "b160df53",
   "metadata": {
    "scrolled": true,
    "pycharm": {
     "name": "#%%\n"
    }
   },
   "outputs": [
    {
     "name": "stdout",
     "output_type": "stream",
     "text": [
      "-------------------------------TEST---------------------------------------\n",
      "     age  sex  cp  trestbps  chol  fbs  restecg  thalach  exang  oldpeak  \\\n",
      "43    53    0   0       130   264    0        0      143      0      0.4   \n",
      "88    54    0   2       110   214    0        1      158      0      1.6   \n",
      "208   49    1   2       120   188    0        1      139      0      2.0   \n",
      "199   65    1   0       110   248    0        0      158      0      0.6   \n",
      "21    44    1   2       130   233    0        1      179      1      0.4   \n",
      "259   38    1   3       120   231    0        1      182      1      3.8   \n",
      "124   39    0   2        94   199    0        1      179      0      0.0   \n",
      "185   44    1   0       112   290    0        0      153      0      0.0   \n",
      "254   59    1   3       160   273    0        0      125      0      0.0   \n",
      "156   47    1   2       130   253    0        1      179      0      0.0   \n",
      "81    45    1   1       128   308    0        0      170      0      0.0   \n",
      "59    57    0   0       128   303    0        0      159      0      0.0   \n",
      "58    34    1   3       118   182    0        0      174      0      0.0   \n",
      "19    69    0   3       140   239    0        1      151      0      1.8   \n",
      "97    52    1   0       108   233    1        1      147      0      0.1   \n",
      "207   60    0   0       150   258    0        0      157      0      2.6   \n",
      "33    54    1   2       125   273    0        0      152      0      0.5   \n",
      "242   64    1   0       145   212    0        0      132      0      2.0   \n",
      "94    45    0   1       112   160    0        1      138      0      0.0   \n",
      "180   55    1   0       132   353    0        1      132      1      1.2   \n",
      "204   62    0   0       160   164    0        0      145      0      6.2   \n",
      "214   56    1   0       125   249    1        0      144      1      1.2   \n",
      "172   58    1   1       120   284    0        0      160      0      1.8   \n",
      "274   47    1   0       110   275    0        0      118      1      1.0   \n",
      "112   64    0   2       140   313    0        1      133      0      0.2   \n",
      "298   57    0   0       140   241    0        1      123      1      0.2   \n",
      "273   58    1   0       100   234    0        1      156      0      0.1   \n",
      "141   43    1   0       115   303    0        1      181      0      1.2   \n",
      "212   39    1   0       118   219    0        1      140      0      1.2   \n",
      "113   43    1   0       110   211    0        1      161      0      0.0   \n",
      "163   38    1   2       138   175    0        1      173      0      0.0   \n",
      "230   47    1   2       108   243    0        1      152      0      0.0   \n",
      "64    58    1   2       140   211    1        0      165      0      0.0   \n",
      "137   62    1   1       128   208    1        0      140      0      0.0   \n",
      "216   62    0   2       130   263    0        1       97      0      1.2   \n",
      "109   50    0   0       110   254    0        0      159      0      0.0   \n",
      "234   70    1   0       130   322    0        0      109      0      2.4   \n",
      "52    62    1   2       130   231    0        1      146      0      1.8   \n",
      "277   57    1   1       124   261    0        1      141      0      0.3   \n",
      "203   68    1   2       180   274    1        0      150      1      1.6   \n",
      "22    42    1   0       140   226    0        1      178      0      0.0   \n",
      "16    58    0   2       120   340    0        1      172      0      0.0   \n",
      "151   71    0   0       112   149    0        1      125      0      1.6   \n",
      "60    71    0   2       110   265    1        0      130      0      0.0   \n",
      "239   35    1   0       126   282    0        0      156      1      0.0   \n",
      "99    53    1   2       130   246    1        0      173      0      0.0   \n",
      "107   45    0   0       138   236    0        0      152      1      0.2   \n",
      "8     52    1   2       172   199    1        1      162      0      0.5   \n",
      "35    46    0   2       142   177    0        0      160      1      1.4   \n",
      "90    48    1   2       124   255    1        1      175      0      0.0   \n",
      "1     37    1   2       130   250    0        1      187      0      3.5   \n",
      "202   58    1   0       150   270    0        0      111      1      0.8   \n",
      "187   54    1   0       124   266    0        0      109      1      2.2   \n",
      "37    54    1   2       150   232    0        0      165      0      1.6   \n",
      "121   59    1   0       138   271    0        0      182      0      0.0   \n",
      "196   46    1   2       150   231    0        1      147      0      3.6   \n",
      "169   53    1   0       140   203    1        0      155      1      3.1   \n",
      "271   61    1   3       134   234    0        1      145      0      2.6   \n",
      "49    53    0   0       138   234    0        0      160      0      0.0   \n",
      "264   54    1   0       110   206    0        0      108      1      0.0   \n",
      "\n",
      "     slope  ca  thal  \n",
      "43       1   0     2  \n",
      "88       1   0     2  \n",
      "208      1   3     1  \n",
      "199      2   2     1  \n",
      "21       2   0     2  \n",
      "259      1   0     1  \n",
      "124      2   0     2  \n",
      "185      2   1     2  \n",
      "254      2   0     2  \n",
      "156      2   0     2  \n",
      "81       2   0     2  \n",
      "59       2   1     2  \n",
      "58       2   0     2  \n",
      "19       2   2     2  \n",
      "97       2   3     1  \n",
      "207      1   2     1  \n",
      "33       0   1     2  \n",
      "242      1   2     1  \n",
      "94       1   0     2  \n",
      "180      1   1     1  \n",
      "204      0   3     1  \n",
      "214      1   1     2  \n",
      "172      1   0     2  \n",
      "274      1   1     2  \n",
      "112      2   0     1  \n",
      "298      1   0     1  \n",
      "273      2   1     1  \n",
      "141      1   0     2  \n",
      "212      1   0     1  \n",
      "113      2   0     1  \n",
      "163      2   4     2  \n",
      "230      2   0     2  \n",
      "64       2   0     2  \n",
      "137      2   0     2  \n",
      "216      1   1     1  \n",
      "109      2   0     2  \n",
      "234      1   3     2  \n",
      "52       1   3     1  \n",
      "277      2   0     1  \n",
      "203      1   0     1  \n",
      "22       2   0     2  \n",
      "16       2   0     2  \n",
      "151      1   0     2  \n",
      "60       2   1     2  \n",
      "239      2   0     1  \n",
      "99       2   3     2  \n",
      "107      1   0     2  \n",
      "8        2   0     1  \n",
      "35       0   0     2  \n",
      "90       2   2     2  \n",
      "1        0   0     2  \n",
      "202      2   0     1  \n",
      "187      1   1     1  \n",
      "37       2   0     1  \n",
      "121      2   0     2  \n",
      "196      1   0     2  \n",
      "169      0   0     1  \n",
      "271      1   2     2  \n",
      "49       2   0     2  \n",
      "264      1   1     2  \n",
      "-------------------------------TRAIN---------------------------------------\n",
      "     age  sex  cp  trestbps  chol  fbs  restecg  thalach  exang  oldpeak  \\\n",
      "62    52    1   3       118   186    0        0      190      0      0.0   \n",
      "284   61    1   0       140   207    0        0      138      1      1.9   \n",
      "36    54    0   2       135   304    1        1      170      0      0.0   \n",
      "235   51    1   0       140   299    0        1      173      1      1.6   \n",
      "130   54    0   2       160   201    0        1      163      0      0.0   \n",
      "..   ...  ...  ..       ...   ...  ...      ...      ...    ...      ...   \n",
      "143   67    0   0       106   223    0        1      142      0      0.3   \n",
      "23    61    1   2       150   243    1        1      137      1      1.0   \n",
      "241   59    0   0       174   249    0        1      143      1      0.0   \n",
      "288   57    1   0       110   335    0        1      143      1      3.0   \n",
      "237   60    1   0       140   293    0        0      170      0      1.2   \n",
      "\n",
      "     slope  ca  thal  \n",
      "62       1   0     1  \n",
      "284      2   1     1  \n",
      "36       2   0     2  \n",
      "235      2   0     1  \n",
      "130      2   1     2  \n",
      "..     ...  ..   ...  \n",
      "143      2   2     2  \n",
      "23       1   0     2  \n",
      "241      1   0     2  \n",
      "288      1   1     1  \n",
      "237      1   2     1  \n",
      "\n",
      "[236 rows x 13 columns]\n"
     ]
    }
   ],
   "source": [
    "#splitting the data into traning nd test data\n",
    "x_train, x_test, y_train, y_test = train_test_split(x, y, test_size=0.2, stratify=y,random_state = 2)\n",
    "print(\"-------------------------------TEST---------------------------------------\")\n",
    "print(x_test)\n",
    "print(\"-------------------------------TRAIN---------------------------------------\")\n",
    "print(x_train)"
   ]
  },
  {
   "cell_type": "code",
   "execution_count": 22,
   "id": "16129ed5",
   "metadata": {
    "pycharm": {
     "name": "#%%\n"
    }
   },
   "outputs": [
    {
     "name": "stdout",
     "output_type": "stream",
     "text": [
      "-------------------------------TEST---------------------------------------\n",
      "[[-1.69291510e-01 -1.49428134e+00 -9.30815779e-01 -1.04810776e-01\n",
      "   4.46036850e-01 -4.03189256e-01 -1.03857191e+00 -2.82817301e-01\n",
      "  -7.36534901e-01 -5.66658536e-01 -6.57680445e-01 -7.09393376e-01\n",
      "   9.11829271e-01]\n",
      " [-5.80023835e-02 -1.49428134e+00  1.03054604e+00 -1.29687551e+00\n",
      "  -6.25468612e-01 -4.03189256e-01  8.46835555e-01  3.74551869e-01\n",
      "  -7.36534901e-01  5.11820613e-01 -6.57680445e-01 -7.09393376e-01\n",
      "   9.11829271e-01]\n",
      " [-6.14448014e-01  6.69218022e-01  1.03054604e+00 -7.00843144e-01\n",
      "  -1.18265145e+00 -4.03189256e-01  8.46835555e-01 -4.58115747e-01\n",
      "  -7.36534901e-01  8.71313663e-01 -6.57680445e-01  2.29809471e+00\n",
      "  -1.02683477e+00]\n",
      " [ 1.16617800e+00  6.69218022e-01 -9.30815779e-01 -1.29687551e+00\n",
      "   1.03155102e-01 -4.03189256e-01 -1.03857191e+00  3.74551869e-01\n",
      "  -7.36534901e-01 -3.86912011e-01  9.93517268e-01  1.29559868e+00\n",
      "  -1.02683477e+00]\n",
      " [-1.17089364e+00  6.69218022e-01  1.03054604e+00 -1.04810776e-01\n",
      "  -2.18296536e-01 -4.03189256e-01  8.46835555e-01  1.29486871e+00\n",
      "   1.35770891e+00 -5.66658536e-01  9.93517268e-01 -7.09393376e-01\n",
      "   9.11829271e-01]\n",
      " [-1.83862840e+00  6.69218022e-01  2.01122695e+00 -7.00843144e-01\n",
      "  -2.61156755e-01 -4.03189256e-01  8.46835555e-01  1.42634254e+00\n",
      "   1.35770891e+00  2.48903239e+00 -6.57680445e-01 -7.09393376e-01\n",
      "  -1.02683477e+00]\n",
      " [-1.72733928e+00 -1.49428134e+00  1.03054604e+00 -2.25052730e+00\n",
      "  -9.46920250e-01 -4.03189256e-01  8.46835555e-01  1.29486871e+00\n",
      "  -7.36534901e-01 -9.26151586e-01  9.93517268e-01 -7.09393376e-01\n",
      "   9.11829271e-01]\n",
      " [-1.17089364e+00  6.69218022e-01 -9.30815779e-01 -1.17766904e+00\n",
      "   1.00321969e+00 -4.03189256e-01 -1.03857191e+00  1.55428812e-01\n",
      "  -7.36534901e-01 -9.26151586e-01  9.93517268e-01  2.93102652e-01\n",
      "   9.11829271e-01]\n",
      " [ 4.98443247e-01  6.69218022e-01  2.01122695e+00  1.68328633e+00\n",
      "   6.38907833e-01 -4.03189256e-01 -1.03857191e+00 -1.07166031e+00\n",
      "  -7.36534901e-01 -9.26151586e-01  9.93517268e-01 -7.09393376e-01\n",
      "   9.11829271e-01]\n",
      " [-8.37026266e-01  6.69218022e-01  1.03054604e+00 -1.04810776e-01\n",
      "   2.10305648e-01 -4.03189256e-01  8.46835555e-01  1.29486871e+00\n",
      "  -7.36534901e-01 -9.26151586e-01  9.93517268e-01 -7.09393376e-01\n",
      "   9.11829271e-01]\n",
      " [-1.05960452e+00  6.69218022e-01  4.98651310e-02 -2.24017250e-01\n",
      "   1.38896166e+00 -4.03189256e-01 -1.03857191e+00  9.00447205e-01\n",
      "  -7.36534901e-01 -9.26151586e-01  9.93517268e-01 -7.09393376e-01\n",
      "   9.11829271e-01]\n",
      " [ 2.75864995e-01 -1.49428134e+00 -9.30815779e-01 -2.24017250e-01\n",
      "   1.28181111e+00 -4.03189256e-01 -1.03857191e+00  4.18376480e-01\n",
      "  -7.36534901e-01 -9.26151586e-01  9.93517268e-01  2.93102652e-01\n",
      "   9.11829271e-01]\n",
      " [-2.28378491e+00  6.69218022e-01  2.01122695e+00 -8.20049617e-01\n",
      "  -1.31123211e+00 -4.03189256e-01 -1.03857191e+00  1.07574565e+00\n",
      "  -7.36534901e-01 -9.26151586e-01  9.93517268e-01 -7.09393376e-01\n",
      "   9.11829271e-01]\n",
      " [ 1.61133451e+00 -1.49428134e+00  2.01122695e+00  4.91221591e-01\n",
      "  -8.97158810e-02 -4.03189256e-01  8.46835555e-01  6.77795896e-02\n",
      "  -7.36534901e-01  6.91567138e-01  9.93517268e-01  1.29559868e+00\n",
      "   9.11829271e-01]\n",
      " [-2.80580636e-01  6.69218022e-01 -9.30815779e-01 -1.41608198e+00\n",
      "  -2.18296536e-01  2.48022482e+00  8.46835555e-01 -1.07518856e-01\n",
      "  -7.36534901e-01 -8.36278324e-01  9.93517268e-01  2.29809471e+00\n",
      "  -1.02683477e+00]\n",
      " [ 6.09732373e-01 -1.49428134e+00 -9.30815779e-01  1.08725396e+00\n",
      "   3.17456194e-01 -4.03189256e-01 -1.03857191e+00  3.30727258e-01\n",
      "  -7.36534901e-01  1.41055324e+00 -6.57680445e-01  1.29559868e+00\n",
      "  -1.02683477e+00]\n",
      " [-5.80023835e-02  6.69218022e-01  1.03054604e+00 -4.02826960e-01\n",
      "   6.38907833e-01 -4.03189256e-01 -1.03857191e+00  1.11604201e-01\n",
      "  -7.36534901e-01 -4.76785274e-01 -2.30887816e+00  2.93102652e-01\n",
      "   9.11829271e-01]\n",
      " [ 1.05488888e+00  6.69218022e-01 -9.30815779e-01  7.89237775e-01\n",
      "  -6.68328830e-01 -4.03189256e-01 -1.03857191e+00 -7.64888026e-01\n",
      "  -7.36534901e-01  8.71313663e-01 -6.57680445e-01  1.29559868e+00\n",
      "  -1.02683477e+00]\n",
      " [-1.05960452e+00 -1.49428134e+00  4.98651310e-02 -1.17766904e+00\n",
      "  -1.78269451e+00 -4.03189256e-01  8.46835555e-01 -5.01940358e-01\n",
      "  -7.36534901e-01 -9.26151586e-01 -6.57680445e-01 -7.09393376e-01\n",
      "   9.11829271e-01]\n",
      " [ 5.32867426e-02  6.69218022e-01 -9.30815779e-01  1.43956970e-02\n",
      "   2.35331657e+00 -4.03189256e-01  8.46835555e-01 -7.64888026e-01\n",
      "   1.35770891e+00  1.52327563e-01 -6.57680445e-01  2.93102652e-01\n",
      "  -1.02683477e+00]\n",
      " [ 8.32310625e-01 -1.49428134e+00 -9.30815779e-01  1.68328633e+00\n",
      "  -1.69697407e+00 -4.03189256e-01 -1.03857191e+00 -1.95168079e-01\n",
      "  -7.36534901e-01  4.64599069e+00 -2.30887816e+00  2.29809471e+00\n",
      "  -1.02683477e+00]\n",
      " [ 1.64575869e-01  6.69218022e-01 -9.30815779e-01 -4.02826960e-01\n",
      "   1.24585211e-01  2.48022482e+00 -1.03857191e+00 -2.38992690e-01\n",
      "   1.35770891e+00  1.52327563e-01 -6.57680445e-01  2.93102652e-01\n",
      "   9.11829271e-01]\n",
      " [ 3.87154121e-01  6.69218022e-01  4.98651310e-02 -7.00843144e-01\n",
      "   8.74639034e-01 -4.03189256e-01 -1.03857191e+00  4.62201092e-01\n",
      "  -7.36534901e-01  6.91567138e-01 -6.57680445e-01 -7.09393376e-01\n",
      "   9.11829271e-01]\n",
      " [-8.37026266e-01  6.69218022e-01 -9.30815779e-01 -1.29687551e+00\n",
      "   6.81768051e-01 -4.03189256e-01 -1.03857191e+00 -1.37843259e+00\n",
      "   1.35770891e+00 -2.74189614e-02 -6.57680445e-01  2.93102652e-01\n",
      "   9.11829271e-01]\n",
      " [ 1.05488888e+00 -1.49428134e+00  1.03054604e+00  4.91221591e-01\n",
      "   1.49611220e+00 -4.03189256e-01  8.46835555e-01 -7.21063415e-01\n",
      "  -7.36534901e-01 -7.46405061e-01  9.93517268e-01 -7.09393376e-01\n",
      "  -1.02683477e+00]\n",
      " [ 2.75864995e-01 -1.49428134e+00 -9.30815779e-01  4.91221591e-01\n",
      "  -4.68556625e-02 -4.03189256e-01  8.46835555e-01 -1.15930953e+00\n",
      "   1.35770891e+00 -7.46405061e-01 -6.57680445e-01 -7.09393376e-01\n",
      "  -1.02683477e+00]\n",
      " [ 3.87154121e-01  6.69218022e-01 -9.30815779e-01 -1.89290788e+00\n",
      "  -1.96866427e-01 -4.03189256e-01  8.46835555e-01  2.86902646e-01\n",
      "  -7.36534901e-01 -8.36278324e-01  9.93517268e-01  2.93102652e-01\n",
      "  -1.02683477e+00]\n",
      " [-1.28218277e+00  6.69218022e-01 -9.30815779e-01 -9.98859328e-01\n",
      "   1.28181111e+00 -4.03189256e-01  8.46835555e-01  1.38251793e+00\n",
      "  -7.36534901e-01  1.52327563e-01 -6.57680445e-01 -7.09393376e-01\n",
      "   9.11829271e-01]\n",
      " [-1.72733928e+00  6.69218022e-01 -9.30815779e-01 -8.20049617e-01\n",
      "  -5.18318066e-01 -4.03189256e-01  8.46835555e-01 -4.14291135e-01\n",
      "  -7.36534901e-01  1.52327563e-01 -6.57680445e-01 -7.09393376e-01\n",
      "  -1.02683477e+00]\n",
      " [-1.28218277e+00  6.69218022e-01 -9.30815779e-01 -1.29687551e+00\n",
      "  -6.89758939e-01 -4.03189256e-01  8.46835555e-01  5.06025703e-01\n",
      "  -7.36534901e-01 -9.26151586e-01  9.93517268e-01 -7.09393376e-01\n",
      "  -1.02683477e+00]\n",
      " [-1.83862840e+00  6.69218022e-01  1.03054604e+00  3.72015117e-01\n",
      "  -1.46124287e+00 -4.03189256e-01  8.46835555e-01  1.03192104e+00\n",
      "  -7.36534901e-01 -9.26151586e-01  9.93517268e-01  3.30059074e+00\n",
      "   9.11829271e-01]\n",
      " [-8.37026266e-01  6.69218022e-01  1.03054604e+00 -1.41608198e+00\n",
      "  -3.99544409e-03 -4.03189256e-01  8.46835555e-01  1.11604201e-01\n",
      "  -7.36534901e-01 -9.26151586e-01  9.93517268e-01 -7.09393376e-01\n",
      "   9.11829271e-01]\n",
      " [ 3.87154121e-01  6.69218022e-01  1.03054604e+00  4.91221591e-01\n",
      "  -6.89758939e-01  2.48022482e+00 -1.03857191e+00  6.81324149e-01\n",
      "  -7.36534901e-01 -9.26151586e-01  9.93517268e-01 -7.09393376e-01\n",
      "   9.11829271e-01]\n",
      " [ 8.32310625e-01  6.69218022e-01  4.98651310e-02 -2.24017250e-01\n",
      "  -7.54049267e-01  2.48022482e+00 -1.03857191e+00 -4.14291135e-01\n",
      "  -7.36534901e-01 -9.26151586e-01  9.93517268e-01 -7.09393376e-01\n",
      "   9.11829271e-01]\n",
      " [ 8.32310625e-01 -1.49428134e+00  1.03054604e+00 -1.04810776e-01\n",
      "   4.24606740e-01 -4.03189256e-01  8.46835555e-01 -2.29874942e+00\n",
      "  -7.36534901e-01  1.52327563e-01 -6.57680445e-01  2.93102652e-01\n",
      "  -1.02683477e+00]\n",
      " [-5.03158888e-01 -1.49428134e+00 -9.30815779e-01 -1.29687551e+00\n",
      "   2.31735757e-01 -4.03189256e-01 -1.03857191e+00  4.18376480e-01\n",
      "  -7.36534901e-01 -9.26151586e-01  9.93517268e-01 -7.09393376e-01\n",
      "   9.11829271e-01]\n",
      " [ 1.72262363e+00  6.69218022e-01 -9.30815779e-01 -1.04810776e-01\n",
      "   1.68898318e+00 -4.03189256e-01 -1.03857191e+00 -1.77285409e+00\n",
      "  -7.36534901e-01  1.23080671e+00 -6.57680445e-01  2.29809471e+00\n",
      "   9.11829271e-01]\n",
      " [ 8.32310625e-01  6.69218022e-01  1.03054604e+00 -1.04810776e-01\n",
      "  -2.61156755e-01 -4.03189256e-01  8.46835555e-01 -1.51343467e-01\n",
      "  -7.36534901e-01  6.91567138e-01 -6.57680445e-01  2.29809471e+00\n",
      "  -1.02683477e+00]\n",
      " [ 2.75864995e-01  6.69218022e-01  4.98651310e-02 -4.62430197e-01\n",
      "   3.81746522e-01 -4.03189256e-01  8.46835555e-01 -3.70466524e-01\n",
      "  -7.36534901e-01 -6.56531799e-01  9.93517268e-01 -7.09393376e-01\n",
      "  -1.02683477e+00]\n",
      " [ 1.50004538e+00  6.69218022e-01  1.03054604e+00  2.87535106e+00\n",
      "   6.60337942e-01  2.48022482e+00 -1.03857191e+00  2.39549782e-02\n",
      "   1.35770891e+00  5.11820613e-01 -6.57680445e-01 -7.09393376e-01\n",
      "  -1.02683477e+00]\n",
      " [-1.39347190e+00  6.69218022e-01 -9.30815779e-01  4.91221591e-01\n",
      "  -3.68307301e-01 -4.03189256e-01  8.46835555e-01  1.25104410e+00\n",
      "  -7.36534901e-01 -9.26151586e-01  9.93517268e-01 -7.09393376e-01\n",
      "   9.11829271e-01]\n",
      " [ 3.87154121e-01 -1.49428134e+00  1.03054604e+00 -7.00843144e-01\n",
      "   2.07472515e+00 -4.03189256e-01  8.46835555e-01  9.88096428e-01\n",
      "  -7.36534901e-01 -9.26151586e-01  9.93517268e-01 -7.09393376e-01\n",
      "   9.11829271e-01]\n",
      " [ 1.83391276e+00 -1.49428134e+00 -9.30815779e-01 -1.17766904e+00\n",
      "  -2.01842571e+00 -4.03189256e-01  8.46835555e-01 -1.07166031e+00\n",
      "  -7.36534901e-01  5.11820613e-01 -6.57680445e-01 -7.09393376e-01\n",
      "   9.11829271e-01]\n",
      " [ 1.83391276e+00 -1.49428134e+00  1.03054604e+00 -1.29687551e+00\n",
      "   4.67466959e-01  2.48022482e+00 -1.03857191e+00 -8.52537249e-01\n",
      "  -7.36534901e-01 -9.26151586e-01  9.93517268e-01  2.93102652e-01\n",
      "   9.11829271e-01]\n",
      " [-2.17249578e+00  6.69218022e-01 -9.30815779e-01 -3.43223723e-01\n",
      "   8.31778816e-01 -4.03189256e-01 -1.03857191e+00  2.86902646e-01\n",
      "   1.35770891e+00 -9.26151586e-01  9.93517268e-01 -7.09393376e-01\n",
      "  -1.02683477e+00]\n",
      " [-1.69291510e-01  6.69218022e-01  1.03054604e+00 -1.04810776e-01\n",
      "   6.02948836e-02  2.48022482e+00 -1.03857191e+00  1.03192104e+00\n",
      "  -7.36534901e-01 -9.26151586e-01  9.93517268e-01  2.29809471e+00\n",
      "   9.11829271e-01]\n",
      " [-1.05960452e+00 -1.49428134e+00 -9.30815779e-01  3.72015117e-01\n",
      "  -1.54006209e-01 -4.03189256e-01 -1.03857191e+00  1.11604201e-01\n",
      "   1.35770891e+00 -7.46405061e-01 -6.57680445e-01 -7.09393376e-01\n",
      "   9.11829271e-01]\n",
      " [-2.80580636e-01  6.69218022e-01  1.03054604e+00  2.39852517e+00\n",
      "  -9.46920250e-01  2.48022482e+00  8.46835555e-01  5.49850314e-01\n",
      "  -7.36534901e-01 -4.76785274e-01  9.93517268e-01 -7.09393376e-01\n",
      "  -1.02683477e+00]\n",
      " [-9.48315392e-01 -1.49428134e+00  1.03054604e+00  6.10428064e-01\n",
      "  -1.41838265e+00 -4.03189256e-01 -1.03857191e+00  4.62201092e-01\n",
      "   1.35770891e+00  3.32074088e-01 -2.30887816e+00 -7.09393376e-01\n",
      "   9.11829271e-01]\n",
      " [-7.25737140e-01  6.69218022e-01  1.03054604e+00 -4.62430197e-01\n",
      "   2.53165867e-01  2.48022482e+00  8.46835555e-01  1.11957026e+00\n",
      "  -7.36534901e-01 -9.26151586e-01  9.93517268e-01  1.29559868e+00\n",
      "   9.11829271e-01]\n",
      " [-1.94991753e+00  6.69218022e-01  1.03054604e+00 -1.04810776e-01\n",
      "   1.46015320e-01 -4.03189256e-01  8.46835555e-01  1.64546560e+00\n",
      "  -7.36534901e-01  2.21941260e+00 -2.30887816e+00 -7.09393376e-01\n",
      "   9.11829271e-01]\n",
      " [ 3.87154121e-01  6.69218022e-01 -9.30815779e-01  1.08725396e+00\n",
      "   5.74617505e-01 -4.03189256e-01 -1.03857191e+00 -1.68520486e+00\n",
      "   1.35770891e+00 -2.07165486e-01  9.93517268e-01 -7.09393376e-01\n",
      "  -1.02683477e+00]\n",
      " [-5.80023835e-02  6.69218022e-01 -9.30815779e-01 -4.62430197e-01\n",
      "   4.88897068e-01 -4.03189256e-01 -1.03857191e+00 -1.77285409e+00\n",
      "   1.35770891e+00  1.05106019e+00 -6.57680445e-01  2.93102652e-01\n",
      "  -1.02683477e+00]\n",
      " [-5.80023835e-02  6.69218022e-01  1.03054604e+00  1.08725396e+00\n",
      "  -2.39726646e-01 -4.03189256e-01 -1.03857191e+00  6.81324149e-01\n",
      "  -7.36534901e-01  5.11820613e-01  9.93517268e-01 -7.09393376e-01\n",
      "  -1.02683477e+00]\n",
      " [ 4.98443247e-01  6.69218022e-01 -9.30815779e-01  3.72015117e-01\n",
      "   5.96047614e-01 -4.03189256e-01 -1.03857191e+00  1.42634254e+00\n",
      "  -7.36534901e-01 -9.26151586e-01  9.93517268e-01 -7.09393376e-01\n",
      "   9.11829271e-01]\n",
      " [-9.48315392e-01  6.69218022e-01  1.03054604e+00  1.08725396e+00\n",
      "  -2.61156755e-01 -4.03189256e-01  8.46835555e-01 -1.07518856e-01\n",
      "  -7.36534901e-01  2.30928586e+00 -6.57680445e-01 -7.09393376e-01\n",
      "   9.11829271e-01]\n",
      " [-1.69291510e-01  6.69218022e-01 -9.30815779e-01  4.91221591e-01\n",
      "  -8.61199813e-01  2.48022482e+00 -1.03857191e+00  2.43078035e-01\n",
      "   1.35770891e+00  1.85991955e+00 -2.30887816e+00 -7.09393376e-01\n",
      "  -1.02683477e+00]\n",
      " [ 7.21021499e-01  6.69218022e-01  2.01122695e+00  1.33602171e-01\n",
      "  -1.96866427e-01 -4.03189256e-01  8.46835555e-01 -1.95168079e-01\n",
      "  -7.36534901e-01  1.41055324e+00 -6.57680445e-01  1.29559868e+00\n",
      "   9.11829271e-01]\n",
      " [-1.69291510e-01 -1.49428134e+00 -9.30815779e-01  3.72015117e-01\n",
      "  -1.96866427e-01 -4.03189256e-01 -1.03857191e+00  4.62201092e-01\n",
      "  -7.36534901e-01 -9.26151586e-01  9.93517268e-01 -7.09393376e-01\n",
      "   9.11829271e-01]\n",
      " [-5.80023835e-02  6.69218022e-01 -9.30815779e-01 -1.29687551e+00\n",
      "  -7.96909485e-01 -4.03189256e-01 -1.03857191e+00 -1.81667870e+00\n",
      "   1.35770891e+00 -9.26151586e-01 -6.57680445e-01  2.93102652e-01\n",
      "   9.11829271e-01]]\n",
      "------------------------------TRAIN----------------------------------------\n",
      "[[-0.28058064  0.66921802  2.01122695 ... -0.65768044 -0.70939338\n",
      "  -1.02683477]\n",
      " [ 0.7210215   0.66921802 -0.93081578 ...  0.99351727  0.29310265\n",
      "  -1.02683477]\n",
      " [-0.05800238 -1.49428134  1.03054604 ...  0.99351727 -0.70939338\n",
      "   0.91182927]\n",
      " ...\n",
      " [ 0.49844325 -1.49428134 -0.93081578 ... -0.65768044 -0.70939338\n",
      "   0.91182927]\n",
      " [ 0.27586499  0.66921802 -0.93081578 ... -0.65768044  0.29310265\n",
      "  -1.02683477]\n",
      " [ 0.60973237  0.66921802 -0.93081578 ... -0.65768044  1.29559868\n",
      "  -1.02683477]]\n"
     ]
    }
   ],
   "source": [
    "scaler = StandardScaler()\n",
    "x_train = scaler.fit_transform(x_train)\n",
    "x_test = scaler.transform(x_test)\n",
    "print(\"-------------------------------TEST---------------------------------------\")\n",
    "print(x_test)\n",
    "print(\"------------------------------TRAIN----------------------------------------\")\n",
    "print(x_train)"
   ]
  },
  {
   "cell_type": "code",
   "execution_count": 23,
   "id": "c3ba5b6a",
   "metadata": {
    "scrolled": true,
    "pycharm": {
     "name": "#%%\n"
    }
   },
   "outputs": [
    {
     "name": "stdout",
     "output_type": "stream",
     "text": [
      "(296, 13) (236, 13) (60, 13)\n"
     ]
    }
   ],
   "source": [
    "print(x.shape,x_train.shape,x_test.shape)"
   ]
  },
  {
   "cell_type": "code",
   "execution_count": 24,
   "id": "d7a0a6b6",
   "metadata": {
    "pycharm": {
     "name": "#%%\n"
    }
   },
   "outputs": [
    {
     "name": "stdout",
     "output_type": "stream",
     "text": [
      "confussion matrix Test data:\n",
      "[[18  9]\n",
      " [ 4 29]]\n",
      "\n",
      "\n",
      "confussion matrix Train data:\n",
      "[[ 85  21]\n",
      " [ 14 116]]\n",
      "\n",
      "\n",
      "Test data\n",
      "Accuracy of Logistic Regression: 78.33333333333333 \n",
      "\n",
      "              precision    recall  f1-score   support\n",
      "\n",
      "           0       0.82      0.67      0.73        27\n",
      "           1       0.76      0.88      0.82        33\n",
      "\n",
      "    accuracy                           0.78        60\n",
      "   macro avg       0.79      0.77      0.78        60\n",
      "weighted avg       0.79      0.78      0.78        60\n",
      "\n",
      "\n",
      "\n",
      "Train data\n",
      "Accuracy of Logistic Regression: 85.16949152542372 \n",
      "\n",
      "              precision    recall  f1-score   support\n",
      "\n",
      "           0       0.86      0.80      0.83       106\n",
      "           1       0.85      0.89      0.87       130\n",
      "\n",
      "    accuracy                           0.85       236\n",
      "   macro avg       0.85      0.85      0.85       236\n",
      "weighted avg       0.85      0.85      0.85       236\n",
      "\n"
     ]
    }
   ],
   "source": [
    "#logistic regression\n",
    "lr = LogisticRegression()\n",
    "lr.fit(x_train, y_train)\n",
    "lr_predict_test = lr.predict(x_test)\n",
    "lr_conf_matrix_test = confusion_matrix(y_test, lr_predict_test)\n",
    "lr_acc_score_test = accuracy_score(y_test, lr_predict_test)\n",
    "print(\"confussion matrix Test data:\")\n",
    "print(lr_conf_matrix_test)\n",
    "print(\"\\n\")\n",
    "lr_predict_train = lr.predict(x_train)\n",
    "lr_conf_matrix_train = confusion_matrix(y_train, lr_predict_train)\n",
    "lr_acc_score_train = accuracy_score(y_train, lr_predict_train)\n",
    "print(\"confussion matrix Train data:\")\n",
    "print(lr_conf_matrix_train)\n",
    "print(\"\\n\")\n",
    "print(\"Test data\")\n",
    "print(\"Accuracy of Logistic Regression:\",lr_acc_score_test*100,'\\n')\n",
    "print(classification_report(y_test,lr_predict_test))\n",
    "print(\"\\n\")\n",
    "print(\"Train data\")\n",
    "print(\"Accuracy of Logistic Regression:\",lr_acc_score_train*100,'\\n')\n",
    "print(classification_report(y_train,lr_predict_train))"
   ]
  },
  {
   "cell_type": "code",
   "execution_count": 25,
   "id": "c230d867",
   "metadata": {
    "pycharm": {
     "name": "#%%\n"
    }
   },
   "outputs": [
    {
     "name": "stdout",
     "output_type": "stream",
     "text": [
      "confussion matrix Test data:\n",
      "[[19  8]\n",
      " [ 3 30]]\n",
      "\n",
      "\n",
      "confussion matrix Train data:\n",
      "[[ 86  20]\n",
      " [ 14 116]]\n",
      "\n",
      "\n",
      "Test data\n",
      "Accuracy of KNN: 81.66666666666667 \n",
      "\n",
      "              precision    recall  f1-score   support\n",
      "\n",
      "           0       0.86      0.70      0.78        27\n",
      "           1       0.79      0.91      0.85        33\n",
      "\n",
      "    accuracy                           0.82        60\n",
      "   macro avg       0.83      0.81      0.81        60\n",
      "weighted avg       0.82      0.82      0.81        60\n",
      "\n",
      "\n",
      "\n",
      "Train data\n",
      "Accuracy of KNN: 85.59322033898306 \n",
      "\n",
      "              precision    recall  f1-score   support\n",
      "\n",
      "           0       0.86      0.81      0.83       106\n",
      "           1       0.85      0.89      0.87       130\n",
      "\n",
      "    accuracy                           0.86       236\n",
      "   macro avg       0.86      0.85      0.85       236\n",
      "weighted avg       0.86      0.86      0.86       236\n",
      "\n"
     ]
    }
   ],
   "source": [
    "knn = KNeighborsClassifier(n_neighbors=10)\n",
    "knn.fit(x_train, y_train)\n",
    "knn_predict_test = knn.predict(x_test)\n",
    "knn_conf_matrix_test = confusion_matrix(y_test, knn_predict_test)\n",
    "knn_acc_score_test = accuracy_score(y_test, knn_predict_test)\n",
    "print(\"confussion matrix Test data:\")\n",
    "print(knn_conf_matrix_test)\n",
    "print(\"\\n\")\n",
    "knn_predict_train = knn.predict(x_train)\n",
    "knn_conf_matrix_train = confusion_matrix(y_train, knn_predict_train)\n",
    "knn_acc_score_train = accuracy_score(y_train, knn_predict_train)\n",
    "print(\"confussion matrix Train data:\")\n",
    "print(knn_conf_matrix_train)\n",
    "print(\"\\n\")\n",
    "print(\"Test data\")\n",
    "print(\"Accuracy of KNN:\",knn_acc_score_test*100,'\\n')\n",
    "print(classification_report(y_test,knn_predict_test))\n",
    "print(\"\\n\")\n",
    "print(\"Train data\")\n",
    "print(\"Accuracy of KNN:\",knn_acc_score_train*100,'\\n')\n",
    "print(classification_report(y_train,knn_predict_train))"
   ]
  },
  {
   "cell_type": "code",
   "execution_count": 26,
   "id": "d855ded1",
   "metadata": {
    "pycharm": {
     "name": "#%%\n"
    }
   },
   "outputs": [
    {
     "name": "stdout",
     "output_type": "stream",
     "text": [
      "confussion matrix Test data:\n",
      "[[17 10]\n",
      " [ 6 27]]\n",
      "\n",
      "\n",
      "confussion matrix Train data:\n",
      "[[104   2]\n",
      " [  6 124]]\n",
      "\n",
      "\n",
      "Test data\n",
      "Accuracy of dt: 73.33333333333333 \n",
      "\n",
      "              precision    recall  f1-score   support\n",
      "\n",
      "           0       0.74      0.63      0.68        27\n",
      "           1       0.73      0.82      0.77        33\n",
      "\n",
      "    accuracy                           0.73        60\n",
      "   macro avg       0.73      0.72      0.73        60\n",
      "weighted avg       0.73      0.73      0.73        60\n",
      "\n",
      "\n",
      "\n",
      "Train data\n",
      "Accuracy of dt: 96.61016949152543 \n",
      "\n",
      "              precision    recall  f1-score   support\n",
      "\n",
      "           0       0.95      0.98      0.96       106\n",
      "           1       0.98      0.95      0.97       130\n",
      "\n",
      "    accuracy                           0.97       236\n",
      "   macro avg       0.96      0.97      0.97       236\n",
      "weighted avg       0.97      0.97      0.97       236\n",
      "\n"
     ]
    }
   ],
   "source": [
    "dt = DecisionTreeClassifier(criterion = 'entropy',random_state=0,max_depth = 6)\n",
    "dt.fit(x_train, y_train)\n",
    "dt_predict_test = dt.predict(x_test)\n",
    "dt_conf_matrix_test = confusion_matrix(y_test, dt_predict_test)\n",
    "dt_acc_score_test = accuracy_score(y_test, dt_predict_test)\n",
    "print(\"confussion matrix Test data:\")\n",
    "print(dt_conf_matrix_test)\n",
    "print(\"\\n\")\n",
    "dt_predict_train = dt.predict(x_train)\n",
    "dt_conf_matrix_train = confusion_matrix(y_train, dt_predict_train)\n",
    "dt_acc_score_train = accuracy_score(y_train, dt_predict_train)\n",
    "print(\"confussion matrix Train data:\")\n",
    "print(dt_conf_matrix_train)\n",
    "print(\"\\n\")\n",
    "print(\"Test data\")\n",
    "print(\"Accuracy of dt:\",dt_acc_score_test*100,'\\n')\n",
    "print(classification_report(y_test,dt_predict_test))\n",
    "print(\"\\n\")\n",
    "print(\"Train data\")\n",
    "print(\"Accuracy of dt:\",dt_acc_score_train*100,'\\n')\n",
    "print(classification_report(y_train,dt_predict_train))"
   ]
  },
  {
   "cell_type": "code",
   "execution_count": 27,
   "id": "f42f44cd",
   "metadata": {
    "pycharm": {
     "name": "#%%\n"
    }
   },
   "outputs": [
    {
     "name": "stdout",
     "output_type": "stream",
     "text": [
      "confussion matrix Test data:\n",
      "[[19  8]\n",
      " [ 2 31]]\n",
      "\n",
      "\n",
      "confussion matrix Train data:\n",
      "[[ 83  23]\n",
      " [ 15 115]]\n",
      "\n",
      "\n",
      "Test data\n",
      "Accuracy of nb: 83.33333333333334 \n",
      "\n",
      "              precision    recall  f1-score   support\n",
      "\n",
      "           0       0.90      0.70      0.79        27\n",
      "           1       0.79      0.94      0.86        33\n",
      "\n",
      "    accuracy                           0.83        60\n",
      "   macro avg       0.85      0.82      0.83        60\n",
      "weighted avg       0.84      0.83      0.83        60\n",
      "\n",
      "\n",
      "\n",
      "Train data\n",
      "Accuracy of nb: 83.89830508474576 \n",
      "\n",
      "              precision    recall  f1-score   support\n",
      "\n",
      "           0       0.85      0.78      0.81       106\n",
      "           1       0.83      0.88      0.86       130\n",
      "\n",
      "    accuracy                           0.84       236\n",
      "   macro avg       0.84      0.83      0.84       236\n",
      "weighted avg       0.84      0.84      0.84       236\n",
      "\n"
     ]
    }
   ],
   "source": [
    "nb = GaussianNB()\n",
    "nb.fit(x_train,y_train)\n",
    "nb_predict_test = nb.predict(x_test)\n",
    "nb_conf_matrix_test = confusion_matrix(y_test, nb_predict_test)\n",
    "nb_acc_score_test = accuracy_score(y_test, nb_predict_test)\n",
    "print(\"confussion matrix Test data:\")\n",
    "print(nb_conf_matrix_test)\n",
    "print(\"\\n\")\n",
    "nb_predict_train = nb.predict(x_train)\n",
    "nb_conf_matrix_train = confusion_matrix(y_train, nb_predict_train)\n",
    "nb_acc_score_train = accuracy_score(y_train, nb_predict_train)\n",
    "print(\"confussion matrix Train data:\")\n",
    "print(nb_conf_matrix_train)\n",
    "print(\"\\n\")\n",
    "print(\"Test data\")\n",
    "print(\"Accuracy of nb:\",nb_acc_score_test*100,'\\n')\n",
    "print(classification_report(y_test,nb_predict_test))\n",
    "print(\"\\n\")\n",
    "print(\"Train data\")\n",
    "print(\"Accuracy of nb:\",nb_acc_score_train*100,'\\n')\n",
    "print(classification_report(y_train,nb_predict_train))"
   ]
  },
  {
   "cell_type": "code",
   "execution_count": 28,
   "id": "3f16159e",
   "metadata": {
    "pycharm": {
     "name": "#%%\n"
    }
   },
   "outputs": [
    {
     "name": "stdout",
     "output_type": "stream",
     "text": [
      "confussion matrix Test data:\n",
      "[[16 11]\n",
      " [ 3 30]]\n",
      "\n",
      "\n",
      "confussion matrix Train data:\n",
      "[[ 98   8]\n",
      " [  4 126]]\n",
      "\n",
      "\n",
      "Test data\n",
      "Accuracy of svc: 76.66666666666667 \n",
      "\n",
      "              precision    recall  f1-score   support\n",
      "\n",
      "           0       0.84      0.59      0.70        27\n",
      "           1       0.73      0.91      0.81        33\n",
      "\n",
      "    accuracy                           0.77        60\n",
      "   macro avg       0.79      0.75      0.75        60\n",
      "weighted avg       0.78      0.77      0.76        60\n",
      "\n",
      "\n",
      "\n",
      "Train data\n",
      "Accuracy of svc: 94.91525423728814 \n",
      "\n",
      "              precision    recall  f1-score   support\n",
      "\n",
      "           0       0.96      0.92      0.94       106\n",
      "           1       0.94      0.97      0.95       130\n",
      "\n",
      "    accuracy                           0.95       236\n",
      "   macro avg       0.95      0.95      0.95       236\n",
      "weighted avg       0.95      0.95      0.95       236\n",
      "\n"
     ]
    }
   ],
   "source": [
    "svc =  SVC(kernel='rbf', C=2)\n",
    "svc.fit(x_train, y_train)\n",
    "svc_predict_test = svc.predict(x_test)\n",
    "svc_conf_matrix_test = confusion_matrix(y_test, svc_predict_test)\n",
    "svc_acc_score_test = accuracy_score(y_test, svc_predict_test)\n",
    "print(\"confussion matrix Test data:\")\n",
    "print(svc_conf_matrix_test)\n",
    "print(\"\\n\")\n",
    "svc_predict_train = svc.predict(x_train)\n",
    "svc_conf_matrix_train = confusion_matrix(y_train, svc_predict_train)\n",
    "svc_acc_score_train = accuracy_score(y_train, svc_predict_train)\n",
    "print(\"confussion matrix Train data:\")\n",
    "print(svc_conf_matrix_train)\n",
    "print(\"\\n\")\n",
    "print(\"Test data\")\n",
    "print(\"Accuracy of svc:\",svc_acc_score_test*100,'\\n')\n",
    "print(classification_report(y_test,svc_predict_test))\n",
    "print(\"\\n\")\n",
    "print(\"Train data\")\n",
    "print(\"Accuracy of svc:\",svc_acc_score_train*100,'\\n')\n",
    "print(classification_report(y_train,svc_predict_train))"
   ]
  },
  {
   "cell_type": "code",
   "execution_count": 29,
   "id": "4ed21cd3",
   "metadata": {
    "pycharm": {
     "name": "#%%\n"
    }
   },
   "outputs": [
    {
     "name": "stdout",
     "output_type": "stream",
     "text": [
      "confussion matrix Test data:\n",
      "[[11 16]\n",
      " [ 7 26]]\n",
      "\n",
      "\n",
      "confussion matrix Train data:\n",
      "[[ 75  31]\n",
      " [ 21 109]]\n",
      "\n",
      "\n",
      "Test data\n",
      "Accuracy of sgd: 61.66666666666667 \n",
      "\n",
      "              precision    recall  f1-score   support\n",
      "\n",
      "           0       0.61      0.41      0.49        27\n",
      "           1       0.62      0.79      0.69        33\n",
      "\n",
      "    accuracy                           0.62        60\n",
      "   macro avg       0.62      0.60      0.59        60\n",
      "weighted avg       0.62      0.62      0.60        60\n",
      "\n",
      "\n",
      "\n",
      "Train data\n",
      "Accuracy of sgd: 77.96610169491525 \n",
      "\n",
      "              precision    recall  f1-score   support\n",
      "\n",
      "           0       0.78      0.71      0.74       106\n",
      "           1       0.78      0.84      0.81       130\n",
      "\n",
      "    accuracy                           0.78       236\n",
      "   macro avg       0.78      0.77      0.77       236\n",
      "weighted avg       0.78      0.78      0.78       236\n",
      "\n"
     ]
    },
    {
     "name": "stderr",
     "output_type": "stream",
     "text": [
      "C:\\Users\\udayr\\anaconda3\\lib\\site-packages\\sklearn\\linear_model\\_stochastic_gradient.py:696: ConvergenceWarning: Maximum number of iteration reached before convergence. Consider increasing max_iter to improve the fit.\n",
      "  warnings.warn(\n"
     ]
    }
   ],
   "source": [
    "sgd= SGDClassifier(loss=\"hinge\", penalty=\"l2\", max_iter=5)\n",
    "sgd.fit(x_train, y_train)\n",
    "sgd_predict_test = sgd.predict(x_test)\n",
    "sgd_conf_matrix_test = confusion_matrix(y_test, sgd_predict_test)\n",
    "sgd_acc_score_test = accuracy_score(y_test, sgd_predict_test)\n",
    "print(\"confussion matrix Test data:\")\n",
    "print(sgd_conf_matrix_test)\n",
    "print(\"\\n\")\n",
    "sgd_predict_train = sgd.predict(x_train)\n",
    "sgd_conf_matrix_train = confusion_matrix(y_train, sgd_predict_train)\n",
    "sgd_acc_score_train = accuracy_score(y_train, sgd_predict_train)\n",
    "print(\"confussion matrix Train data:\")\n",
    "print(sgd_conf_matrix_train)\n",
    "print(\"\\n\")\n",
    "print(\"Test data\")\n",
    "print(\"Accuracy of sgd:\",sgd_acc_score_test*100,'\\n')\n",
    "print(classification_report(y_test,sgd_predict_test))\n",
    "print(\"\\n\")\n",
    "print(\"Train data\")\n",
    "print(\"Accuracy of sgd:\",sgd_acc_score_train*100,'\\n')\n",
    "print(classification_report(y_train,sgd_predict_train))"
   ]
  },
  {
   "cell_type": "code",
   "execution_count": 30,
   "id": "9212431e",
   "metadata": {
    "pycharm": {
     "name": "#%%\n"
    }
   },
   "outputs": [
    {
     "name": "stdout",
     "output_type": "stream",
     "text": [
      "confussion matrix Test data:\n",
      "[[18  9]\n",
      " [ 4 29]]\n",
      "\n",
      "\n",
      "confussion matrix Train data:\n",
      "[[ 98   8]\n",
      " [  3 127]]\n",
      "\n",
      "\n",
      "Test data\n",
      "Accuracy of nn: 78.33333333333333 \n",
      "\n",
      "              precision    recall  f1-score   support\n",
      "\n",
      "           0       0.82      0.67      0.73        27\n",
      "           1       0.76      0.88      0.82        33\n",
      "\n",
      "    accuracy                           0.78        60\n",
      "   macro avg       0.79      0.77      0.78        60\n",
      "weighted avg       0.79      0.78      0.78        60\n",
      "\n",
      "\n",
      "\n",
      "Train data\n",
      "Accuracy of nn: 95.33898305084746 \n",
      "\n",
      "              precision    recall  f1-score   support\n",
      "\n",
      "           0       0.97      0.92      0.95       106\n",
      "           1       0.94      0.98      0.96       130\n",
      "\n",
      "    accuracy                           0.95       236\n",
      "   macro avg       0.96      0.95      0.95       236\n",
      "weighted avg       0.95      0.95      0.95       236\n",
      "\n"
     ]
    },
    {
     "name": "stderr",
     "output_type": "stream",
     "text": [
      "C:\\Users\\udayr\\anaconda3\\lib\\site-packages\\sklearn\\neural_network\\_multilayer_perceptron.py:692: ConvergenceWarning: Stochastic Optimizer: Maximum iterations (300) reached and the optimization hasn't converged yet.\n",
      "  warnings.warn(\n"
     ]
    }
   ],
   "source": [
    "nn = MLPClassifier(random_state=1, max_iter=300)\n",
    "nn.fit(x_train, y_train)\n",
    "nn_predict_test = nn.predict(x_test)\n",
    "nn_conf_matrix_test = confusion_matrix(y_test, nn_predict_test)\n",
    "nn_acc_score_test = accuracy_score(y_test, nn_predict_test)\n",
    "print(\"confussion matrix Test data:\")\n",
    "print(nn_conf_matrix_test)\n",
    "print(\"\\n\")\n",
    "nn_predict_train = nn.predict(x_train)\n",
    "nn_conf_matrix_train = confusion_matrix(y_train, nn_predict_train)\n",
    "nn_acc_score_train = accuracy_score(y_train, nn_predict_train)\n",
    "print(\"confussion matrix Train data:\")\n",
    "print(nn_conf_matrix_train)\n",
    "print(\"\\n\")\n",
    "print(\"Test data\")\n",
    "print(\"Accuracy of nn:\",nn_acc_score_test*100,'\\n')\n",
    "print(classification_report(y_test,nn_predict_test))\n",
    "print(\"\\n\")\n",
    "print(\"Train data\")\n",
    "print(\"Accuracy of nn:\",nn_acc_score_train*100,'\\n')\n",
    "print(classification_report(y_train,nn_predict_train))"
   ]
  },
  {
   "cell_type": "code",
   "execution_count": 46,
   "id": "598b49eb",
   "metadata": {
    "pycharm": {
     "name": "#%%\n"
    }
   },
   "outputs": [
    {
     "name": "stderr",
     "output_type": "stream",
     "text": [
      "C:\\Users\\udayr\\anaconda3\\lib\\site-packages\\sklearn\\linear_model\\_logistic.py:814: ConvergenceWarning: lbfgs failed to converge (status=1):\n",
      "STOP: TOTAL NO. of ITERATIONS REACHED LIMIT.\n",
      "\n",
      "Increase the number of iterations (max_iter) or scale the data as shown in:\n",
      "    https://scikit-learn.org/stable/modules/preprocessing.html\n",
      "Please also refer to the documentation for alternative solver options:\n",
      "    https://scikit-learn.org/stable/modules/linear_model.html#logistic-regression\n",
      "  n_iter_i = _check_optimize_result(\n",
      "C:\\Users\\udayr\\anaconda3\\lib\\site-packages\\sklearn\\linear_model\\_logistic.py:814: ConvergenceWarning: lbfgs failed to converge (status=1):\n",
      "STOP: TOTAL NO. of ITERATIONS REACHED LIMIT.\n",
      "\n",
      "Increase the number of iterations (max_iter) or scale the data as shown in:\n",
      "    https://scikit-learn.org/stable/modules/preprocessing.html\n",
      "Please also refer to the documentation for alternative solver options:\n",
      "    https://scikit-learn.org/stable/modules/linear_model.html#logistic-regression\n",
      "  n_iter_i = _check_optimize_result(\n"
     ]
    },
    {
     "data": {
      "text/plain": [
       "array([0.87837838, 0.83108108])"
      ]
     },
     "execution_count": 46,
     "metadata": {},
     "output_type": "execute_result"
    }
   ],
   "source": [
    "cross_val_score( LogisticRegression(),x,y,cv=2)"
   ]
  },
  {
   "cell_type": "code",
   "execution_count": 269,
   "id": "70f0054f",
   "metadata": {
    "pycharm": {
     "name": "#%%\n"
    }
   },
   "outputs": [
    {
     "name": "stdout",
     "output_type": "stream",
     "text": [
      "[78.33333333 81.66666667 76.66666667 73.33333333 83.33333333 70.\n",
      " 78.33333333]\n",
      "['LR' 'KNN' 'SVC' 'DT' 'NB' 'SGD' 'NN']\n"
     ]
    },
    {
     "data": {
      "image/png": "[encoded data removed]",
      "text/plain": [
       "<Figure size 432x288 with 1 Axes>"
      ]
     },
     "metadata": {
      "needs_background": "light"
     },
     "output_type": "display_data"
    },
    {
     "data": {
      "image/png": "[encoded data removed]",
      "text/plain": [
       "<Figure size 432x288 with 1 Axes>"
      ]
     },
     "metadata": {},
     "output_type": "display_data"
    }
   ],
   "source": [
    "x_plot = np.array([\"LR\", \"KNN\",\"SVC\", \"DT\", \"NB\", \"SGD\", \"NN\"])\n",
    "y_plot = np.array([lr_acc_score_test*100,knn_acc_score_test*100,svc_acc_score_test*100,dt_acc_score_test*100,nb_acc_score_test*100,sgd_acc_score_test*100,nn_acc_score_test*100])\n",
    "print(y_plot)\n",
    "print(x_plot)\n",
    "plt.bar(x_plot,y_plot,width=0.7)\n",
    "plt.show()\n",
    "explode_val=[0, 0,0, 0, 0.3, 0, 0]\n",
    "plt.pie(y_plot,labels=x_plot,autopct='%0.2f%%',shadow=True,explode=explode_val,radius=1.5)\n",
    "plt.show()\n"
   ]
  },
  {
   "cell_type": "code",
   "execution_count": 244,
   "id": "6e8f5c09",
   "metadata": {
    "pycharm": {
     "name": "#%%\n"
    }
   },
   "outputs": [
    {
     "name": "stdout",
     "output_type": "stream",
     "text": [
      " LR prediction: [0]\n",
      "KNN prediction: [1]\n",
      " DT prediction: [0]\n",
      " NB prediction: [0]\n",
      "SVC prediction: [1]\n",
      "SGD prediction: [0]\n",
      " NN prediction: [0]\n"
     ]
    }
   ],
   "source": [
    "#Prediction Model\n",
    "input=(52,1,0,112,230,0,1,160,0,0,2,1,2)\n",
    "input_array=np.asarray(input)\n",
    "input_reshaped=input_array.reshape(1,-1)\n",
    "pred1=lr.predict(input_reshaped)\n",
    "pred2=knn.predict(input_reshaped)\n",
    "pred3=dt.predict(input_reshaped)\n",
    "pred4=nb.predict(input_reshaped)\n",
    "pred5=svc.predict(input_reshaped)\n",
    "pred6=sgd.predict(input_reshaped)\n",
    "pred6=nn.predict(input_reshaped)\n",
    "print(\" LR prediction:\",pred1)\n",
    "print(\"KNN prediction:\",pred2)\n",
    "print(\" DT prediction:\",pred3)\n",
    "print(\" NB prediction:\",pred4)\n",
    "print(\"SVC prediction:\",pred5)\n",
    "print(\"SGD prediction:\",pred6)\n",
    "print(\" NN prediction:\",pred6)"
   ]
  },
  {
   "cell_type": "code",
   "execution_count": null,
   "id": "14f58d42",
   "metadata": {
    "pycharm": {
     "name": "#%%\n"
    }
   },
   "outputs": [],
   "source": [
    "import librosa"
   ]
  },
  {
   "cell_type": "code",
   "execution_count": null,
   "id": "1404710e",
   "metadata": {
    "pycharm": {
     "name": "#%%\n"
    }
   },
   "outputs": [],
   "source": []
  }
 ],
 "metadata": {
  "kernelspec": {
   "display_name": "Python 3 (ipykernel)",
   "language": "python",
   "name": "python3"
  },
  "language_info": {
   "codemirror_mode": {
    "name": "ipython",
    "version": 3
   },
   "file_extension": ".py",
   "mimetype": "text/x-python",
   "name": "python",
   "nbconvert_exporter": "python",
   "pygments_lexer": "ipython3",
   "version": "3.9.12"
  }
 },
 "nbformat": 4,
 "nbformat_minor": 5
}